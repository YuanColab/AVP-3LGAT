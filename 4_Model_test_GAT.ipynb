{
 "cells": [
  {
   "cell_type": "code",
   "execution_count": null,
   "id": "f6e07dee",
   "metadata": {},
   "outputs": [],
   "source": [
    "# ==================== Cell 1: 设置和导入 ====================\n",
    "import os\n",
    "import sys\n",
    "import warnings\n",
    "warnings.filterwarnings('ignore')\n",
    "\n",
    "# 添加项目路径\n",
    "if os.getcwd() not in sys.path:\n",
    "    sys.path.append(os.getcwd())\n",
    "\n",
    "print(\"🧪 GAT Layer Comparison Testing\")\n",
    "print(\"=\"*50)\n",
    "\n",
    "# ==================== Cell 2: 执行GAT测试 ====================\n",
    "from Model_training_and_testing.test_GAT import main_gat_testing\n",
    "\n",
    "print(\"🚀 Starting GAT model testing...\")\n",
    "print(\"📊 Testing 2-layer vs 3-layer GAT on test datasets\")\n",
    "\n",
    "results = main_gat_testing(\n",
    "    test_paths=[\n",
    "        '3_Graph_Data/TS/TS_ESMC_4.0A.pkl',\n",
    "        '3_Graph_Data/TS/TS_ESMC_8.0A.pkl',\n",
    "        '3_Graph_Data/TS/TS_ESMC_12.0A.pkl'\n",
    "    ],\n",
    "    train_results_dir=\"4_Results_TR_RS\"\n",
    ")\n"
   ]
  }
 ],
 "metadata": {
  "kernelspec": {
   "display_name": "ipynb (esmc)",
   "language": "python",
   "name": "esmc"
  },
  "language_info": {
   "codemirror_mode": {
    "name": "ipython",
    "version": 3
   },
   "file_extension": ".py",
   "mimetype": "text/x-python",
   "name": "python",
   "nbconvert_exporter": "python",
   "pygments_lexer": "ipython3",
   "version": "3.12.9"
  }
 },
 "nbformat": 4,
 "nbformat_minor": 5
}
